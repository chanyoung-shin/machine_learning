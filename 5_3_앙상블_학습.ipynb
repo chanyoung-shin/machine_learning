{
 "cells": [
  {
   "cell_type": "code",
   "execution_count": 30,
   "metadata": {},
   "outputs": [],
   "source": [
    "import numpy as np\n",
    "import pandas as pd\n",
    "from sklearn.model_selection import train_test_split\n",
    "wine=pd.read_csv('https://bit.ly/wine_csv_data')\n",
    "data=wine[['alcohol','sugar','pH']].to_numpy()\n",
    "target=wine['class'].to_numpy() #데이터 넘파이 배열로 바꾸기\n",
    "train_input,test_iput,train_target,test_target=train_test_split(data,target,test_size=0.2,random_state=42)\n",
    "#데이터준비 이젠 설명하기도 지겹다"
   ]
  },
  {
   "cell_type": "code",
   "execution_count": 5,
   "metadata": {},
   "outputs": [
    {
     "name": "stdout",
     "output_type": "stream",
     "text": [
      "{'fit_time': array([0.2390542 , 0.23605347, 0.2350533 , 0.23505354, 0.23705387]), 'score_time': array([0.02500606, 0.02500653, 0.02400517, 0.02700663, 0.02400613]), 'test_score': array([0.88461538, 0.88942308, 0.90279115, 0.88931665, 0.88642926]), 'train_score': array([0.9971133 , 0.99663219, 0.9978355 , 0.9973545 , 0.9978355 ])}\n"
     ]
    }
   ],
   "source": [
    "from sklearn.model_selection import cross_validate\n",
    "from sklearn.ensemble import RandomForestClassifier\n",
    "rf=RandomForestClassifier(n_jobs=-1,random_state=42,warm_start=True)\n",
    "scores=cross_validate(rf,train_input,train_target,return_train_score=True,n_jobs=-1)\n",
    "print(scores)\n",
    "#랜덤포레스트로 학습및 교차 검증"
   ]
  },
  {
   "cell_type": "code",
   "execution_count": 6,
   "metadata": {},
   "outputs": [
    {
     "name": "stdout",
     "output_type": "stream",
     "text": [
      "[0.23167441 0.50039841 0.26792718]\n"
     ]
    }
   ],
   "source": [
    "rf.fit(train_input,train_target)\n",
    "print(rf.feature_importances_)#모델 학습 후"
   ]
  },
  {
   "cell_type": "code",
   "execution_count": 29,
   "metadata": {},
   "outputs": [
    {
     "ename": "AttributeError",
     "evalue": "'RandomForestClassifier' object has no attribute 'oob_score_'",
     "output_type": "error",
     "traceback": [
      "\u001b[1;31m---------------------------------------------------------------------------\u001b[0m",
      "\u001b[1;31mAttributeError\u001b[0m                            Traceback (most recent call last)",
      "Cell \u001b[1;32mIn[29], line 1\u001b[0m\n\u001b[1;32m----> 1\u001b[0m \u001b[38;5;28mprint\u001b[39m(rf\u001b[38;5;241m.\u001b[39moob_score_())\n",
      "\u001b[1;31mAttributeError\u001b[0m: 'RandomForestClassifier' object has no attribute 'oob_score_'"
     ]
    }
   ],
   "source": [
    "print(rf.oob_score_())#잉여 데이터를 이용하여 점수 출력"
   ]
  },
  {
   "cell_type": "markdown",
   "metadata": {},
   "source": [
    "엑스트라 트리"
   ]
  },
  {
   "cell_type": "code",
   "execution_count": 31,
   "metadata": {},
   "outputs": [
    {
     "name": "stdout",
     "output_type": "stream",
     "text": [
      "0.9974503966084433 0.8887848893166506\n"
     ]
    }
   ],
   "source": [
    "from sklearn.ensemble import ExtraTreesClassifier\n",
    "et=ExtraTreesClassifier(n_jobs=-1, random_state=42)\n",
    "scores=cross_validate(et,train_input,train_target,n_jobs=-1,return_train_score=True)\n",
    "print(np.mean(scores['train_score']),np.mean(scores['test_score']))\n",
    "#엑스트라 트리 분류모델 학습"
   ]
  },
  {
   "cell_type": "code",
   "execution_count": 32,
   "metadata": {},
   "outputs": [
    {
     "name": "stdout",
     "output_type": "stream",
     "text": [
      "[0.20183568 0.52242907 0.27573525]\n"
     ]
    }
   ],
   "source": [
    "et.fit(train_input,train_target)\n",
    "print(et.feature_importances_)"
   ]
  },
  {
   "cell_type": "markdown",
   "metadata": {},
   "source": [
    "그레이디언트 부스팅"
   ]
  },
  {
   "cell_type": "code",
   "execution_count": 33,
   "metadata": {},
   "outputs": [
    {
     "name": "stdout",
     "output_type": "stream",
     "text": [
      "0.8881086892152563 0.8720430147331015\n"
     ]
    }
   ],
   "source": [
    "from sklearn.ensemble import GradientBoostingClassifier\n",
    "gb=GradientBoostingClassifier(random_state=42)\n",
    "scores=cross_validate(gb,train_input,train_target,return_train_score=True,n_jobs=-1)\n",
    "print(np.mean(scores['train_score']),np.mean(scores['test_score']))\n",
    "#그레이디언트 부스팅 분류모델 학습 밑 교차검증"
   ]
  },
  {
   "cell_type": "code",
   "execution_count": 34,
   "metadata": {},
   "outputs": [
    {
     "name": "stdout",
     "output_type": "stream",
     "text": [
      "0.9464595437171814 0.8780082549788999\n"
     ]
    }
   ],
   "source": [
    "gb=GradientBoostingClassifier(random_state=42,n_estimators=500,learning_rate=0.2)\n",
    "scores=cross_validate(gb,train_input,train_target,return_train_score=True,n_jobs=-1)\n",
    "print(np.mean(scores['train_score']),np.mean(scores['test_score']))\n",
    "#학습률과 트리개수를 100->500으로 0.1->0.2로 조정함"
   ]
  },
  {
   "cell_type": "code",
   "execution_count": 37,
   "metadata": {},
   "outputs": [
    {
     "name": "stdout",
     "output_type": "stream",
     "text": [
      "[0.15872278 0.68011572 0.16116151]\n"
     ]
    }
   ],
   "source": [
    "gb.fit(train_input,train_target)\n",
    "print(gb.feature_importances_)"
   ]
  },
  {
   "cell_type": "markdown",
   "metadata": {},
   "source": [
    "히스토그램 기반 그레이디언트 부스팅"
   ]
  },
  {
   "cell_type": "code",
   "execution_count": 38,
   "metadata": {},
   "outputs": [
    {
     "name": "stdout",
     "output_type": "stream",
     "text": [
      "0.9321723946453317 0.8801241948619236\n"
     ]
    }
   ],
   "source": [
    "from sklearn.ensemble import  HistGradientBoostingClassifier\n",
    "hgb=HistGradientBoostingClassifier(random_state=42)\n",
    "scores=cross_validate(hgb,train_input,train_target,return_train_score=True)\n",
    "print(np.mean(scores['train_score']),np.mean(scores['test_score']))\n",
    "#히스토그램 기반 그레이디언트 부스팅으로 학습"
   ]
  },
  {
   "cell_type": "code",
   "execution_count": 39,
   "metadata": {},
   "outputs": [
    {
     "name": "stdout",
     "output_type": "stream",
     "text": [
      "0.8723076923076923\n"
     ]
    }
   ],
   "source": [
    "hgb.fit(train_input,train_target)\n",
    "print(hgb.score(test_iput,test_target))"
   ]
  },
  {
   "cell_type": "code",
   "execution_count": null,
   "metadata": {},
   "outputs": [],
   "source": []
  }
 ],
 "metadata": {
  "kernelspec": {
   "display_name": "base",
   "language": "python",
   "name": "python3"
  },
  "language_info": {
   "codemirror_mode": {
    "name": "ipython",
    "version": 3
   },
   "file_extension": ".py",
   "mimetype": "text/x-python",
   "name": "python",
   "nbconvert_exporter": "python",
   "pygments_lexer": "ipython3",
   "version": "3.11.5"
  }
 },
 "nbformat": 4,
 "nbformat_minor": 2
}
